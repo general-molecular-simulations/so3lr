{
 "cells": [
  {
   "cell_type": "code",
   "execution_count": 1,
   "id": "015d1b5d-29b9-416e-91d2-12ce08cc12df",
   "metadata": {},
   "outputs": [
    {
     "name": "stderr",
     "output_type": "stream",
     "text": [
      "WARNING:absl:Tensorflow library not found, tensorflow.io.gfile operations will use native shim calls. GCS paths (i.e. 'gs://...') cannot be accessed.\n",
      "WARNING:root:For using QCMLDataLoader please install tensorflow.\n",
      "WARNING:root:For using QCMLDataLoader please install tensorflow_datasets.\n"
     ]
    }
   ],
   "source": [
    "import jax\n",
    "import jax.numpy as jnp\n",
    "import jraph\n",
    "import numpy as np\n",
    "import time\n",
    "\n",
    "from dataclasses import dataclass\n",
    "from pprint import pprint\n",
    "\n",
    "from mlff.mdx.potential.mlff_potential_sparse import load_model_from_workdir\n",
    "from mlff.utils import jraph_utils\n",
    "from mlff.data import AseDataLoaderSparse\n",
    "from mlff.data import NpzDataLoaderSparse\n",
    "\n",
    "from so3lr import So3lr"
   ]
  },
  {
   "cell_type": "code",
   "execution_count": 2,
   "id": "6acdfb56-6536-4de3-9fad-dfbad9e887e4",
   "metadata": {},
   "outputs": [
    {
     "name": "stderr",
     "output_type": "stream",
     "text": [
      "MLFF:root:Load data from data/ethanol.npz.\n",
      "MLFF:root:Calculate short range neighbors within cutoff=4.5 Ang.\n",
      "MLFF:root:Calculate long-range neighbors within cutoff_lr=inf Ang.\n",
      "0it [00:00, ?it/s]/home/yxzu/.virtualenvs/so3lr/lib64/python3.13/site-packages/ase/neighborlist.py:281: RuntimeWarning: invalid value encountered in cast\n",
      "  np.ceil(bin_size * nbins_c / face_dist_c).astype(int)\n",
      "2000it [00:00, 44849.75it/s]\n",
      "MLFF:root:... done!\n"
     ]
    }
   ],
   "source": [
    "dataloader = NpzDataLoaderSparse(\n",
    "    'data/ethanol.npz',\n",
    ")\n",
    "\n",
    "data, stats = dataloader.load(\n",
    "    cutoff=4.5,\n",
    "    cutoff_lr=np.inf,\n",
    "    calculate_neighbors_lr=True,\n",
    "    pick_idx=np.arange(50) # take the first 50 frames from the data set\n",
    ")"
   ]
  },
  {
   "cell_type": "code",
   "execution_count": 3,
   "id": "605da817-0976-4987-b44a-244f2922da20",
   "metadata": {},
   "outputs": [
    {
     "name": "stdout",
     "output_type": "stream",
     "text": [
      "GraphsTuple(nodes={'positions': array([[-0.3712776 , -0.45252128, -0.19895536],\n",
      "       [-0.72997075,  0.68413099,  0.79622273],\n",
      "       [ 0.98474324, -0.24509398, -0.47843776],\n",
      "       [-0.59848449, -1.4733098 ,  0.19563715],\n",
      "       [-1.00308552, -0.30490059, -1.10558217],\n",
      "       [-0.52242124,  1.73814903,  0.17984159],\n",
      "       [-1.6873976 ,  0.53773135,  1.23071945],\n",
      "       [ 0.08736885,  0.90074002,  1.4408355 ],\n",
      "       [ 1.214412  , -0.26932519, -1.46412348]]), 'atomic_numbers': array([6, 6, 8, 1, 1, 1, 1, 1, 1]), 'forces': array([[-26.65845641,  23.24921427,   2.1633537 ],\n",
      "       [ 33.23849668,  45.80338958, -77.83582996],\n",
      "       [ 43.15698382,  -6.54653358, -44.62892596],\n",
      "       [  6.9142078 ,   7.25861413,   0.43256605],\n",
      "       [  3.35740248,  -5.6187004 ,   5.12580848],\n",
      "       [-34.62580734, -52.22708068,  23.59973159],\n",
      "       [-23.99129633,   9.05796712,  15.11034046],\n",
      "       [ 15.82917769, -17.15955234,  35.86599296],\n",
      "       [-17.10727453,  -3.75687692,  40.18842496]]), 'hirshfeld_ratios': array([nan, nan, nan, nan, nan, nan, nan, nan, nan])}, edges={}, receivers=array([0, 0, 0, 0, 0, 0, 0, 0, 1, 1, 1, 1, 1, 1, 1, 1, 2, 2, 2, 2, 2, 2,\n",
      "       2, 2, 3, 3, 3, 3, 3, 3, 3, 3, 4, 4, 4, 4, 4, 4, 4, 4, 5, 5, 5, 5,\n",
      "       5, 5, 5, 5, 6, 6, 6, 6, 6, 6, 6, 6, 7, 7, 7, 7, 7, 7, 7, 7, 8, 8,\n",
      "       8, 8, 8, 8, 8, 8]), senders=array([1, 2, 3, 4, 5, 6, 7, 8, 0, 2, 3, 4, 5, 6, 7, 8, 0, 1, 3, 4, 5, 6,\n",
      "       7, 8, 0, 1, 2, 4, 5, 6, 7, 8, 0, 1, 2, 3, 5, 6, 7, 8, 0, 1, 2, 3,\n",
      "       4, 6, 7, 8, 0, 1, 2, 3, 4, 5, 7, 8, 0, 1, 2, 3, 4, 5, 6, 8, 0, 1,\n",
      "       2, 3, 4, 5, 6, 7]), globals={'energy': array([-97192.67788305]), 'stress': array([[nan, nan, nan, nan, nan, nan]]), 'dipole_vec': array([[nan, nan, nan]]), 'total_charge': array([0], dtype=int16), 'num_unpaired_electrons': array([0], dtype=int16)}, n_node=array([9]), n_edge=array([72]), n_pairs=array([72]), idx_i_lr=array([0, 0, 0, 0, 0, 0, 0, 0, 1, 1, 1, 1, 1, 1, 1, 1, 2, 2, 2, 2, 2, 2,\n",
      "       2, 2, 3, 3, 3, 3, 3, 3, 3, 3, 4, 4, 4, 4, 4, 4, 4, 4, 5, 5, 5, 5,\n",
      "       5, 5, 5, 5, 6, 6, 6, 6, 6, 6, 6, 6, 7, 7, 7, 7, 7, 7, 7, 7, 8, 8,\n",
      "       8, 8, 8, 8, 8, 8]), idx_j_lr=array([1, 2, 3, 4, 5, 6, 7, 8, 0, 2, 3, 4, 5, 6, 7, 8, 0, 1, 3, 4, 5, 6,\n",
      "       7, 8, 0, 1, 2, 4, 5, 6, 7, 8, 0, 1, 2, 3, 5, 6, 7, 8, 0, 1, 2, 3,\n",
      "       4, 6, 7, 8, 0, 1, 2, 3, 4, 5, 7, 8, 0, 1, 2, 3, 4, 5, 6, 8, 0, 1,\n",
      "       2, 3, 4, 5, 6, 7]))\n"
     ]
    }
   ],
   "source": [
    "# The data loader takes the input data file and converts each structure into a `jraph.GraphsTuple`.\n",
    "\n",
    "pprint(data[0])"
   ]
  },
  {
   "cell_type": "code",
   "execution_count": 4,
   "id": "2ac875ba-fda4-4298-9c94-c3873e923360",
   "metadata": {},
   "outputs": [
    {
     "name": "stdout",
     "output_type": "stream",
     "text": [
      "Pure computation time without jit = 48.96\n"
     ]
    }
   ],
   "source": [
    "# Create a fresh iterator.\n",
    "\n",
    "batch_size = 1\n",
    "\n",
    "# Batch the graphs.\n",
    "batched_graphs = jraph.dynamically_batch(\n",
    "    data,\n",
    "    n_node=stats['max_num_of_nodes'] * batch_size + 1,\n",
    "    n_edge=stats['max_num_of_edges'] * batch_size + 1,\n",
    "    n_graph=batch_size + 1,\n",
    "    n_pairs= stats['max_num_of_nodes'] * (stats['max_num_of_nodes'] - 1) * batch_size + 1\n",
    ")\n",
    "\n",
    "\n",
    "so3lr_calc = So3lr(\n",
    "    calculate_forces=True,\n",
    "    lr_cutoff=100\n",
    ")\n",
    "\n",
    "total_compute_time = 0.0\n",
    "for graph_batch in batched_graphs:\n",
    "    # Transform the batched graph to inputs dict.\n",
    "    inputs = jraph_utils.graph_to_batch_fn(\n",
    "        graph_batch\n",
    "    )\n",
    "    \n",
    "    # Add theory_mask field\n",
    "    inputs['theory_mask'] = jnp.eye(16)[0].reshape(1, -1)\n",
    "\n",
    "    # Measure he model computation\n",
    "    start = time.perf_counter()\n",
    "    output = so3lr_calc(inputs)\n",
    "    end = time.perf_counter()\n",
    "    total_compute_time += (end - start)\n",
    "\n",
    "print(f'Pure computation time without jit = {total_compute_time:.4g}')"
   ]
  },
  {
   "cell_type": "code",
   "execution_count": 5,
   "id": "a0c6733e-d6cd-4f96-8cc9-7fba82e43181",
   "metadata": {},
   "outputs": [
    {
     "name": "stdout",
     "output_type": "stream",
     "text": [
      "Total number of iterations =  50\n",
      "Compilation time plus first computation (first call) = 7.325\n",
      "Pure computation time from second computation onwards (iterations 2+) = 0.03676\n",
      "Average time per computation (including compilation overhead) = 0.1472\n",
      "Average time per computation (excluding compilation) = 0.0007501\n",
      "Total wall clock time = 7.362\n"
     ]
    }
   ],
   "source": [
    "# Create a fresh iterator for JIT test\n",
    "batched_graphs_jit = jraph.dynamically_batch(\n",
    "    data,\n",
    "    n_node=stats['max_num_of_nodes'] * batch_size + 1,\n",
    "    n_edge=stats['max_num_of_edges'] * batch_size + 1,\n",
    "    n_graph=batch_size + 1,\n",
    "    n_pairs= stats['max_num_of_nodes'] * (stats['max_num_of_nodes'] - 1) * batch_size + 1\n",
    ")\n",
    "\n",
    "so3lr_calc_jit = jax.jit(so3lr_calc)\n",
    "\n",
    "i = 0\n",
    "total_compute_time = 0.0\n",
    "compile_time = 0.0\n",
    "\n",
    "for graph_batch in batched_graphs_jit:\n",
    "    # Transform the batched graph to inputs dict.\n",
    "    inputs = jraph_utils.graph_to_batch_fn(\n",
    "        graph_batch\n",
    "    )\n",
    "    \n",
    "    # Add theory_mask field that is required by the MLFF model\n",
    "    # The NPZ data doesn't include this field, so we need to add it manually\n",
    "    inputs['theory_mask'] = jnp.eye(16)[0].reshape(1, -1)  # Use first theory level for all graphs\n",
    "    \n",
    "    # Measure ONLY the model computation\n",
    "    start = time.perf_counter()\n",
    "    output = jax.block_until_ready(so3lr_calc_jit(inputs))\n",
    "    end = time.perf_counter()\n",
    "    \n",
    "    if i == 0:\n",
    "        compile_time = end - start\n",
    "        pure_compute_time = 0.0  # Don't add first computation to pure time - avoid floating point errors\n",
    "    else:\n",
    "        pure_compute_time += (end - start)  # Add only pure computation\n",
    "\n",
    "    \n",
    "    \n",
    "    graph_batch.nodes['forces_true'] = output['forces']\n",
    "    graph_batch.nodes['energy_true'] = output['energy']\n",
    "    graph_batch.nodes['dipole_vec_true'] = output['dipole_vec']\n",
    "    graph_batch.nodes['hirshfeld_ratios_true'] = output['hirshfeld_ratios']\n",
    "\n",
    "    # predicted.append(jraph.unbatch(graph_batch))\n",
    "    \n",
    "    i += 1\n",
    "\n",
    "    \n",
    "total_compute_time = compile_time + pure_compute_time\n",
    "\n",
    "print('Total number of iterations = ', i)\n",
    "print(f'Compilation time plus first computation (first call) = {compile_time:.4g}')\n",
    "print(f'Pure computation time from second computation onwards (iterations 2+) = {pure_compute_time:.4g}')\n",
    "print(f'Average time per computation (including compilation overhead) = {total_compute_time/i:.4g}')\n",
    "if i > 1: \n",
    "    print(f'Average time per computation (excluding compilation) = {pure_compute_time/(i-1):.4g}')\n",
    "print(f'Total wall clock time = {total_compute_time:.4g}')"
   ]
  },
  {
   "cell_type": "code",
   "execution_count": 6,
   "id": "b36a47d9-bfbb-48dc-ba8d-0691033c1c30",
   "metadata": {},
   "outputs": [
    {
     "name": "stdout",
     "output_type": "stream",
     "text": [
      "{'dipole_vec': Array([[-0.15462711, -0.28720653, -0.02340287],\n",
      "       [ 0.        ,  0.        ,  0.        ]], dtype=float32),\n",
      " 'energy': Array([-14.743898,   0.      ], dtype=float32),\n",
      " 'forces': Array([[-3.2873504 , -2.3319964 ,  2.048338  ],\n",
      "       [ 2.5215158 ,  1.5717448 , -0.6058162 ],\n",
      "       [-0.37934327, -1.2226087 , -0.47387624],\n",
      "       [ 0.10440782,  1.1608028 ,  0.9021926 ],\n",
      "       [ 0.7856201 ,  1.6373655 , -0.95621043],\n",
      "       [ 0.11453546,  0.68705595,  1.147562  ],\n",
      "       [ 0.6586375 , -0.9075333 ,  0.16016062],\n",
      "       [-0.7316438 , -1.1171225 ,  0.02287863],\n",
      "       [ 0.21362092,  0.522292  , -2.2452292 ],\n",
      "       [ 0.        ,  0.        ,  0.        ]], dtype=float32),\n",
      " 'hirshfeld_ratios': Array([0.79526365, 0.7683944 , 0.9239218 , 0.63038445, 0.5819373 ,\n",
      "       0.5990365 , 0.5886431 , 0.5959441 , 0.6013007 , 0.        ],      dtype=float32)}\n"
     ]
    }
   ],
   "source": [
    "# You can see the last entry has zeros, due to padding graph. See next section for explanation.\n",
    "pprint(output)"
   ]
  },
  {
   "cell_type": "markdown",
   "id": "a523cfc6-a2fc-49f6-b162-b1b95c61a7ae",
   "metadata": {},
   "source": [
    "# Why jraph and batching hustle?\n",
    "\n",
    "You might wonder, why going through all the hustle with `jraph.dynamically_batch` and not just simply define an `inputs` dict for each structure `SO3LR` should be evaluated on. As illustrated above, `jax.jit` takes a long time during the first call, as it creates the computational graph and optimizes it via XLA afterwards. This is great, since we have seen that this can drastically speed up calculations even on CPU. There is a caveat though: `jax.jit` assumes static shapes of the input arrays. As an example, consider some function and its jitted counterpart\n",
    "\n",
    "```python\n",
    "fn = lambda A, B: do stuff ..\n",
    "fn_jit = jax.jit(fn)\n",
    "```\n",
    "\n",
    "Every time the shapes of `A` and `B` change, `jax.jit` will trigger a recompile, introducing a drastic computational overhead.\n",
    "\n",
    "\n",
    "When using `SO3LR` for structures of different size, this would for example correspond to\n",
    "\n",
    "```python\n",
    "inputs1['positions'].shape = (N1, 3)\n",
    "inputs2['positions'].shape = (N2, 3)\n",
    "inputs2['positions'].shape = (N2, 3)\n",
    "```\n",
    "\n",
    "where `N1`, `N2` and `N3` are the number of atoms of the first and second structure. Therefore, when calling `so3lr_jit` for each input there is triggered a recompile. To avoid such issues one can pad all arrays in `inputs` that depend on the input structure to some pre-defined value. Given some `iterator` over `jraph.GraphTuples` this is exactly what `jraph.dynamically_batch` is doing via `n_node`, `n_edge`, `n_graph` and `n_pair`. Afterwards, we transform the batched graph to the input using `jraph_utils.graph_to_inputs`. Note, that there is always one padding graph, which is used during the computation to dump values that depend to padded nodes, edges, and so on. For example, the code below will pad `batch_size = 2` structures per batch. Using the `stats` collected by the data loader, we can choose the remaining values based on the `batch_size`."
   ]
  },
  {
   "cell_type": "code",
   "execution_count": 7,
   "id": "b24c1084-153e-40ae-85a1-f16d96e36e5e",
   "metadata": {},
   "outputs": [
    {
     "name": "stdout",
     "output_type": "stream",
     "text": [
      "<class 'numpy.ndarray'>\n",
      "<class 'numpy.ndarray'>\n",
      "<class 'numpy.ndarray'>\n",
      "<class 'numpy.ndarray'>\n",
      "<class 'numpy.ndarray'>\n",
      "<class 'numpy.ndarray'>\n",
      "<class 'numpy.ndarray'>\n",
      "<class 'numpy.ndarray'>\n",
      "<class 'numpy.ndarray'>\n",
      "<class 'numpy.ndarray'>\n",
      "<class 'numpy.ndarray'>\n",
      "<class 'numpy.ndarray'>\n",
      "<class 'numpy.ndarray'>\n",
      "<class 'numpy.ndarray'>\n",
      "<class 'numpy.ndarray'>\n",
      "<class 'numpy.ndarray'>\n"
     ]
    },
    {
     "data": {
      "text/plain": [
       "GraphsTuple(nodes={'atomic_numbers': None, 'forces': None, 'hirshfeld_ratios': None, 'positions': None}, edges={}, receivers=None, senders=None, globals={'dipole_vec': None, 'energy': None, 'num_unpaired_electrons': None, 'stress': None, 'total_charge': None}, n_node=None, n_edge=None, n_pairs=None, idx_i_lr=None, idx_j_lr=None)"
      ]
     },
     "execution_count": 7,
     "metadata": {},
     "output_type": "execute_result"
    }
   ],
   "source": [
    "batch_size = 2\n",
    "\n",
    "batched_graphs = jraph.dynamically_batch(\n",
    "    data,\n",
    "    n_node=stats['max_num_of_nodes'] * batch_size + 1,\n",
    "    n_edge=stats['max_num_of_edges'] * batch_size + 1,\n",
    "    n_graph=batch_size + 1,\n",
    "    n_pairs= stats['max_num_of_nodes'] * (stats['max_num_of_nodes'] - 1) * batch_size + 1\n",
    ")\n",
    "\n",
    "# The arrays are numpy arrays at this point so they are on CPU and not on GPU.\n",
    "jax.tree.map(lambda x: print(type(x)), next(batched_graphs))"
   ]
  },
  {
   "cell_type": "code",
   "execution_count": 8,
   "id": "19775021-9421-40b1-aa65-ee0d32521fc9",
   "metadata": {},
   "outputs": [
    {
     "name": "stdout",
     "output_type": "stream",
     "text": [
      "{'batch_segments': Array([0, 0, 0, 0, 0, 0, 0, 0, 0, 1, 1, 1, 1, 1, 1, 1, 1, 1, 2], dtype=int32),\n",
      " 'graph_mask': Array([ True,  True, False], dtype=bool),\n",
      " 'node_mask': Array([ True,  True,  True,  True,  True,  True,  True,  True,  True,\n",
      "        True,  True,  True,  True,  True,  True,  True,  True,  True,\n",
      "       False], dtype=bool),\n",
      " 'num_of_non_padded_graphs': Array(2, dtype=int32)}\n"
     ]
    }
   ],
   "source": [
    "pprint(jraph_utils.batch_info_fn(next(batched_graphs)))"
   ]
  },
  {
   "cell_type": "code",
   "execution_count": null,
   "id": "2a392738-f62b-4ba9-9fc6-89111fdb2ecc",
   "metadata": {},
   "outputs": [],
   "source": []
  }
 ],
 "metadata": {
  "kernelspec": {
   "display_name": "Python (so3lr)",
   "language": "python",
   "name": "so3lr"
  },
  "language_info": {
   "codemirror_mode": {
    "name": "ipython",
    "version": 3
   },
   "file_extension": ".py",
   "mimetype": "text/x-python",
   "name": "python",
   "nbconvert_exporter": "python",
   "pygments_lexer": "ipython3",
   "version": "3.13.5"
  }
 },
 "nbformat": 4,
 "nbformat_minor": 5
}
